{
 "cells": [
  {
   "cell_type": "markdown",
   "metadata": {},
   "source": [
    "<h2 style='color:Blue' align='center'> Large file processor </h2>"
   ]
  },
  {
   "cell_type": "markdown",
   "metadata": {},
   "source": [
    "<h4 style='color:blue'> Importing the libraries </h4>"
   ]
  },
  {
   "cell_type": "code",
   "execution_count": 1,
   "metadata": {},
   "outputs": [],
   "source": [
    "#Importing packages\n",
    "\n",
    "import pandas as pd\n",
    "import numpy as np\n",
    "import matplotlib.pyplot as plt\n",
    "import seaborn as sns\n",
    "import csv\n",
    "\n",
    "import mysql.connector as mysql\n",
    "from mysql.connector import Error\n",
    "from sqlalchemy import create_engine\n",
    "\n",
    "import timeit\n",
    "from timeit import default_timer as timer\n",
    "\n",
    "import warnings\n",
    "warnings.filterwarnings(\"ignore\")\n",
    "\n",
    "import os\n",
    "import sys"
   ]
  },
  {
   "cell_type": "markdown",
   "metadata": {},
   "source": [
    "<h4 style='color:Red'>!!! If you're going to test with another file, please change the file name here. </h4>"
   ]
  },
  {
   "cell_type": "code",
   "execution_count": 2,
   "metadata": {},
   "outputs": [
    {
     "data": {
      "text/html": [
       "<div>\n",
       "<style scoped>\n",
       "    .dataframe tbody tr th:only-of-type {\n",
       "        vertical-align: middle;\n",
       "    }\n",
       "\n",
       "    .dataframe tbody tr th {\n",
       "        vertical-align: top;\n",
       "    }\n",
       "\n",
       "    .dataframe thead th {\n",
       "        text-align: right;\n",
       "    }\n",
       "</style>\n",
       "<table border=\"1\" class=\"dataframe\">\n",
       "  <thead>\n",
       "    <tr style=\"text-align: right;\">\n",
       "      <th></th>\n",
       "      <th>name</th>\n",
       "      <th>sku</th>\n",
       "      <th>description</th>\n",
       "    </tr>\n",
       "  </thead>\n",
       "  <tbody>\n",
       "    <tr>\n",
       "      <th>0</th>\n",
       "      <td>Bryce Jones</td>\n",
       "      <td>lay-raise-best-end</td>\n",
       "      <td>Art community floor adult your single type. Pe...</td>\n",
       "    </tr>\n",
       "    <tr>\n",
       "      <th>1</th>\n",
       "      <td>John Robinson</td>\n",
       "      <td>cup-return-guess</td>\n",
       "      <td>Produce successful hot tree past action young ...</td>\n",
       "    </tr>\n",
       "    <tr>\n",
       "      <th>2</th>\n",
       "      <td>Theresa Taylor</td>\n",
       "      <td>step-onto</td>\n",
       "      <td>Choice should lead budget task. Author best me...</td>\n",
       "    </tr>\n",
       "    <tr>\n",
       "      <th>3</th>\n",
       "      <td>Roger Huerta</td>\n",
       "      <td>citizen-some-middle</td>\n",
       "      <td>Important fight wrong position fine. Friend so...</td>\n",
       "    </tr>\n",
       "    <tr>\n",
       "      <th>4</th>\n",
       "      <td>John Buckley</td>\n",
       "      <td>term-important</td>\n",
       "      <td>Alone maybe education risk despite way.\\nWant ...</td>\n",
       "    </tr>\n",
       "  </tbody>\n",
       "</table>\n",
       "</div>"
      ],
      "text/plain": [
       "             name                  sku  \\\n",
       "0     Bryce Jones   lay-raise-best-end   \n",
       "1   John Robinson     cup-return-guess   \n",
       "2  Theresa Taylor            step-onto   \n",
       "3    Roger Huerta  citizen-some-middle   \n",
       "4    John Buckley       term-important   \n",
       "\n",
       "                                         description  \n",
       "0  Art community floor adult your single type. Pe...  \n",
       "1  Produce successful hot tree past action young ...  \n",
       "2  Choice should lead budget task. Author best me...  \n",
       "3  Important fight wrong position fine. Friend so...  \n",
       "4  Alone maybe education risk despite way.\\nWant ...  "
      ]
     },
     "execution_count": 2,
     "metadata": {},
     "output_type": "execute_result"
    }
   ],
   "source": [
    "df = pd.read_csv(\"products.csv\")\n",
    "df.head(5)"
   ]
  },
  {
   "cell_type": "code",
   "execution_count": 3,
   "metadata": {},
   "outputs": [
    {
     "name": "stdout",
     "output_type": "stream",
     "text": [
      "Shape of the dataset :  (500000, 3)\n"
     ]
    }
   ],
   "source": [
    "print(\"Shape of the dataset : \", df.shape)"
   ]
  },
  {
   "cell_type": "markdown",
   "metadata": {},
   "source": [
    "<h4 style='color:Red'>!!! Please adjust the database information to your system's configuration. </h4>"
   ]
  },
  {
   "cell_type": "code",
   "execution_count": 4,
   "metadata": {},
   "outputs": [],
   "source": [
    "conn_params_dic = {\n",
    "    \"host\"      : \"localhost\",\n",
    "    \"user\"      : \"root\",\n",
    "    \"password\"  : \"db-root\" \n",
    "}"
   ]
  },
  {
   "cell_type": "markdown",
   "metadata": {},
   "source": [
    "<h4 style='color:Blue'> The function that establishes the database connection and creates the database. </h4>"
   ]
  },
  {
   "cell_type": "code",
   "execution_count": 5,
   "metadata": {},
   "outputs": [],
   "source": [
    "def connect(conn_params_dic):\n",
    "    conn = None\n",
    "    try:\n",
    "        print('MySQL DB Connection establishment. :')\n",
    "        conn = mysql.connect(**conn_params_dic)\n",
    "        cur = conn.cursor()\n",
    "        print(\"Connected Successfully..\")\n",
    "        print('Database Creation')\n",
    "        cur.execute(\"DROP DATABASE IF EXISTS POSTMAN;\")\n",
    "        cur.execute(\"CREATE DATABASE POSTMAN;\")\n",
    "        cur.execute(\"USE POSTMAN;\")\n",
    "        \n",
    "    except Error as err:\n",
    "        print(\"Error while connecting to MySQL\", err)      \n",
    "        conn = None\n",
    "    return conn\n",
    "\n",
    "alchemy_dict = {\n",
    "    \"host\"      : \"localhost\",\n",
    "    \"user\"      : \"root\",\n",
    "    \"password\"  : \"db-root\",\n",
    "    \"database\"  : \"postman\"\n",
    "}\n",
    "\n",
    "connect_alchemy = \"mysql+pymysql://%s:%s@%s/%s\" % (\n",
    "    alchemy_dict['user'],\n",
    "    alchemy_dict['password'],\n",
    "    alchemy_dict['host'],\n",
    "    alchemy_dict['database']    \n",
    ")\n",
    "\n",
    "def using_alchemy():\n",
    "    try:\n",
    "        print('Alchemy method : DB Connection establishment. :')\n",
    "        engine = create_engine(connect_alchemy)\n",
    "        print(\"\\nConnected Successfully with Alchemy method\")\n",
    "    except Error as err:\n",
    "        print(\"Error while connecting to MySQL\", err)      \n",
    "        engine = None\n",
    "    return engine"
   ]
  },
  {
   "cell_type": "markdown",
   "metadata": {},
   "source": [
    "<h4 style='color:Blue'> The function that creates the table </h4>"
   ]
  },
  {
   "cell_type": "code",
   "execution_count": 6,
   "metadata": {},
   "outputs": [],
   "source": [
    "def create_table(engine):\n",
    "    try:\n",
    "        print('Creating a table named PRODUCT_DATA:')\n",
    "        engine.execute(\"DROP TABLE IF EXISTS PRODUCT_DATA;\")\n",
    "        print(\"Table is dropped incase if it exist.\\nTable Creating started:\")\n",
    "        sql = '''CREATE TABLE PRODUCT_DATA(\n",
    "        name varchar(255) NOT NULL, \n",
    "        sku varchar(255) NOT NULL, \n",
    "        description varchar(255) NOT NULL,\n",
    "        PRIMARY KEY (sku)\n",
    "        )'''\n",
    "        engine.execute(sql);\n",
    "        print(\"PRODUCT_DATA table successfully created!\")  \n",
    "    except Error as err:\n",
    "        print(\"Error while connecting to MySQL\", err)    \n",
    "        conn = None"
   ]
  },
  {
   "cell_type": "markdown",
   "metadata": {},
   "source": [
    "<h4 style='color:Blue'> To load the data into the database, created the function using the MySQL cursor process. </h4>"
   ]
  },
  {
   "cell_type": "code",
   "execution_count": 7,
   "metadata": {},
   "outputs": [],
   "source": [
    "def cursor_method(conn, df, table):\n",
    "    tups = [tuple(x) for x in df.to_numpy()]\n",
    "    cols = ','.join(list(df.columns))\n",
    "    print('\\nInserting the rows in the mysql database:')\n",
    "    sql = \"INSERT IGNORE INTO %s(%s) VALUES(%%s,%%s,%%s)\" % (table, cols)\n",
    "    cursor = conn.cursor()\n",
    "    cursor.execute('USE POSTMAN;')\n",
    "    try:\n",
    "        cursor.executemany(sql, tups)\n",
    "        conn.commit()\n",
    "        print(\"Data insertion is successful with the cursor method.\")\n",
    "    except Error as e:\n",
    "        print(\"Error while inserting to MySQL\", e)\n",
    "        cursor.close()"
   ]
  },
  {
   "cell_type": "markdown",
   "metadata": {},
   "source": [
    "<h4 style='color:Blue'> To load the data into the database, created the function using the CSV file readed method. </h4>"
   ]
  },
  {
   "cell_type": "code",
   "execution_count": 8,
   "metadata": {},
   "outputs": [],
   "source": [
    "def csv_method(engine, df, table):\n",
    "    try:\n",
    "        df.to_csv('products.csv', index=False)\n",
    "        cols = ','.join(list(df.columns))\n",
    "        sql = \"INSERT IGNORE INTO %s(%s) VALUES(%%s,%%s,%%s)\" % (table, cols)\n",
    "        sql = sql.format(table)\n",
    "        with open('products.csv') as file:\n",
    "            reader = csv.reader(file)\n",
    "            next(reader)\n",
    "            data = list(reader)\n",
    "        engine.execute(sql, data)\n",
    "        print(\"Data insertion is successful with the csv reader.\")\n",
    "    except Error as err:\n",
    "        print(\"Error while inserting to MySQL\", e)"
   ]
  },
  {
   "cell_type": "markdown",
   "metadata": {},
   "source": [
    "<h4 style='color:Blue'> The function that aids in calculating the length of time that a process has taken.</h4>"
   ]
  },
  {
   "cell_type": "code",
   "execution_count": 9,
   "metadata": {},
   "outputs": [],
   "source": [
    "def run_method(n):\n",
    "    for i in range(n):\n",
    "        3 ** n\n",
    "start_time = timer()\n",
    "run_method(10000)\n",
    "end_time = timer()\n",
    "elapsed = end_time-start_time"
   ]
  },
  {
   "cell_type": "markdown",
   "metadata": {},
   "source": [
    "<h4 style='color:Green'> We compare the methods in the following function by loading the data into the database and measuring the time it takes to complete the operation.</h4>"
   ]
  },
  {
   "cell_type": "code",
   "execution_count": 10,
   "metadata": {},
   "outputs": [],
   "source": [
    "def method_comparison(conn,engine,df):\n",
    "    print('Deleting the table data for testing.')\n",
    "    engine.execute(\"delete from PRODUCT_DATA where true;\")\n",
    "    print(\"Data has been deleted from PRODUCT_DATA table\")\n",
    "    print(\"\")\n",
    "\n",
    "    methods = [cursor_method, csv_method]\n",
    "    \n",
    "    df_performance = pd.DataFrame(index=range(len(methods)), columns=['Total_Records','Method_Name','Time'])\n",
    "\n",
    "    k = 0\n",
    "    for method in methods:\n",
    "        start_time = timer()\n",
    "        if method==cursor_method:\n",
    "            method(conn, df, 'PRODUCT_DATA')\n",
    "        else:\n",
    "            method(engine, df, 'PRODUCT_DATA')\n",
    "        end_time = timer()\n",
    "        \n",
    "        df_performance.at[k,'Total_Records'] = len(df.index)\n",
    "        df_performance.at[k,'Method_Name'] = method.__name__\n",
    "        df_performance.at[k,'Time'] = end_time-start_time\n",
    "\n",
    "        engine.execute(\"delete from PRODUCT_DATA where true;\")\n",
    "        print(\"Data has been deleted from PRODUCT_DATA table\")\n",
    "        print(\"\")\n",
    "        k = k + 1\n",
    "   \n",
    "    return df_performance"
   ]
  },
  {
   "cell_type": "markdown",
   "metadata": {},
   "source": [
    "<h4 style='color:Blue'>Calling the functions to establish the connection in database</h4>"
   ]
  },
  {
   "cell_type": "code",
   "execution_count": 11,
   "metadata": {},
   "outputs": [
    {
     "name": "stdout",
     "output_type": "stream",
     "text": [
      "MySQL DB Connection establishment. :\n",
      "Connected Successfully..\n",
      "Database Creation\n",
      "Alchemy method : DB Connection establishment. :\n",
      "\n",
      "Connected Successfully with Alchemy method\n",
      "Creating a table named PRODUCT_DATA:\n",
      "Table is dropped incase if it exist.\n",
      "Table Creating started:\n",
      "PRODUCT_DATA table successfully created!\n"
     ]
    }
   ],
   "source": [
    "conn = connect(conn_params_dic)\n",
    "engine = using_alchemy()\n",
    "create_table(engine)"
   ]
  },
  {
   "cell_type": "markdown",
   "metadata": {},
   "source": [
    "<h4 style='color:Blue'>We load the limited data for each loop and calculate its output in the below.</h4>"
   ]
  },
  {
   "cell_type": "code",
   "execution_count": 12,
   "metadata": {},
   "outputs": [
    {
     "name": "stdout",
     "output_type": "stream",
     "text": [
      "records = 1000\n",
      "\n",
      "Deleting the table data for testing.\n",
      "Data has been deleted from PRODUCT_DATA table\n",
      "\n",
      "\n",
      "Inserting the rows in the mysql database:\n",
      "Data insertion is successful with the cursor method.\n",
      "Data has been deleted from PRODUCT_DATA table\n",
      "\n",
      "Data insertion is successful with the csv reader.\n",
      "Data has been deleted from PRODUCT_DATA table\n",
      "\n",
      "records = 5000\n",
      "\n",
      "Deleting the table data for testing.\n",
      "Data has been deleted from PRODUCT_DATA table\n",
      "\n",
      "\n",
      "Inserting the rows in the mysql database:\n",
      "Data insertion is successful with the cursor method.\n",
      "Data has been deleted from PRODUCT_DATA table\n",
      "\n",
      "Data insertion is successful with the csv reader.\n",
      "Data has been deleted from PRODUCT_DATA table\n",
      "\n",
      "records = 10000\n",
      "\n",
      "Deleting the table data for testing.\n",
      "Data has been deleted from PRODUCT_DATA table\n",
      "\n",
      "\n",
      "Inserting the rows in the mysql database:\n",
      "Data insertion is successful with the cursor method.\n",
      "Data has been deleted from PRODUCT_DATA table\n",
      "\n",
      "Data insertion is successful with the csv reader.\n",
      "Data has been deleted from PRODUCT_DATA table\n",
      "\n",
      "records = 50000\n",
      "\n",
      "Deleting the table data for testing.\n",
      "Data has been deleted from PRODUCT_DATA table\n",
      "\n",
      "\n",
      "Inserting the rows in the mysql database:\n",
      "Data insertion is successful with the cursor method.\n",
      "Data has been deleted from PRODUCT_DATA table\n",
      "\n",
      "Data insertion is successful with the csv reader.\n",
      "Data has been deleted from PRODUCT_DATA table\n",
      "\n",
      "records = 100000\n",
      "\n",
      "Deleting the table data for testing.\n",
      "Data has been deleted from PRODUCT_DATA table\n",
      "\n",
      "\n",
      "Inserting the rows in the mysql database:\n",
      "Data insertion is successful with the cursor method.\n",
      "Data has been deleted from PRODUCT_DATA table\n",
      "\n",
      "Data insertion is successful with the csv reader.\n",
      "Data has been deleted from PRODUCT_DATA table\n",
      "\n"
     ]
    },
    {
     "data": {
      "text/html": [
       "<div>\n",
       "<style scoped>\n",
       "    .dataframe tbody tr th:only-of-type {\n",
       "        vertical-align: middle;\n",
       "    }\n",
       "\n",
       "    .dataframe tbody tr th {\n",
       "        vertical-align: top;\n",
       "    }\n",
       "\n",
       "    .dataframe thead th {\n",
       "        text-align: right;\n",
       "    }\n",
       "</style>\n",
       "<table border=\"1\" class=\"dataframe\">\n",
       "  <thead>\n",
       "    <tr style=\"text-align: right;\">\n",
       "      <th></th>\n",
       "      <th>index</th>\n",
       "      <th>Total_Records</th>\n",
       "      <th>Method_Name</th>\n",
       "      <th>Time</th>\n",
       "    </tr>\n",
       "  </thead>\n",
       "  <tbody>\n",
       "    <tr>\n",
       "      <th>0</th>\n",
       "      <td>0</td>\n",
       "      <td>1000</td>\n",
       "      <td>cursor_method</td>\n",
       "      <td>0.447807</td>\n",
       "    </tr>\n",
       "    <tr>\n",
       "      <th>1</th>\n",
       "      <td>1</td>\n",
       "      <td>1000</td>\n",
       "      <td>csv_method</td>\n",
       "      <td>0.132009</td>\n",
       "    </tr>\n",
       "    <tr>\n",
       "      <th>2</th>\n",
       "      <td>0</td>\n",
       "      <td>5000</td>\n",
       "      <td>cursor_method</td>\n",
       "      <td>2.06041</td>\n",
       "    </tr>\n",
       "    <tr>\n",
       "      <th>3</th>\n",
       "      <td>1</td>\n",
       "      <td>5000</td>\n",
       "      <td>csv_method</td>\n",
       "      <td>0.453325</td>\n",
       "    </tr>\n",
       "    <tr>\n",
       "      <th>4</th>\n",
       "      <td>0</td>\n",
       "      <td>10000</td>\n",
       "      <td>cursor_method</td>\n",
       "      <td>4.31071</td>\n",
       "    </tr>\n",
       "  </tbody>\n",
       "</table>\n",
       "</div>"
      ],
      "text/plain": [
       "   index Total_Records    Method_Name      Time\n",
       "0      0          1000  cursor_method  0.447807\n",
       "1      1          1000     csv_method  0.132009\n",
       "2      0          5000  cursor_method   2.06041\n",
       "3      1          5000     csv_method  0.453325\n",
       "4      0         10000  cursor_method   4.31071"
      ]
     },
     "execution_count": 12,
     "metadata": {},
     "output_type": "execute_result"
    }
   ],
   "source": [
    "df_performance_list = []\n",
    "\n",
    "for records in [1000,5000,10000,50000,100000]:\n",
    "    print(\"records = %s\\n\" % records)\n",
    "    df_cutoff = df[0:records]\n",
    "    df_performance = method_comparison(conn,engine,df_cutoff)\n",
    "    df_performance_list.append(df_performance)\n",
    "\n",
    "method_performances = pd.concat(df_performance_list, axis=0).reset_index()\n",
    "method_performances.head()"
   ]
  },
  {
   "cell_type": "code",
   "execution_count": 13,
   "metadata": {},
   "outputs": [
    {
     "data": {
      "text/html": [
       "<div>\n",
       "<style scoped>\n",
       "    .dataframe tbody tr th:only-of-type {\n",
       "        vertical-align: middle;\n",
       "    }\n",
       "\n",
       "    .dataframe tbody tr th {\n",
       "        vertical-align: top;\n",
       "    }\n",
       "\n",
       "    .dataframe thead th {\n",
       "        text-align: right;\n",
       "    }\n",
       "</style>\n",
       "<table border=\"1\" class=\"dataframe\">\n",
       "  <thead>\n",
       "    <tr style=\"text-align: right;\">\n",
       "      <th></th>\n",
       "      <th>index</th>\n",
       "      <th>Total_Records</th>\n",
       "      <th>Method_Name</th>\n",
       "      <th>Time</th>\n",
       "    </tr>\n",
       "  </thead>\n",
       "  <tbody>\n",
       "    <tr>\n",
       "      <th>5</th>\n",
       "      <td>1</td>\n",
       "      <td>10000</td>\n",
       "      <td>csv_method</td>\n",
       "      <td>0.949104</td>\n",
       "    </tr>\n",
       "    <tr>\n",
       "      <th>6</th>\n",
       "      <td>0</td>\n",
       "      <td>50000</td>\n",
       "      <td>cursor_method</td>\n",
       "      <td>33.7874</td>\n",
       "    </tr>\n",
       "    <tr>\n",
       "      <th>7</th>\n",
       "      <td>1</td>\n",
       "      <td>50000</td>\n",
       "      <td>csv_method</td>\n",
       "      <td>19.4611</td>\n",
       "    </tr>\n",
       "    <tr>\n",
       "      <th>8</th>\n",
       "      <td>0</td>\n",
       "      <td>100000</td>\n",
       "      <td>cursor_method</td>\n",
       "      <td>112.176</td>\n",
       "    </tr>\n",
       "    <tr>\n",
       "      <th>9</th>\n",
       "      <td>1</td>\n",
       "      <td>100000</td>\n",
       "      <td>csv_method</td>\n",
       "      <td>63.0635</td>\n",
       "    </tr>\n",
       "  </tbody>\n",
       "</table>\n",
       "</div>"
      ],
      "text/plain": [
       "   index Total_Records    Method_Name      Time\n",
       "5      1         10000     csv_method  0.949104\n",
       "6      0         50000  cursor_method   33.7874\n",
       "7      1         50000     csv_method   19.4611\n",
       "8      0        100000  cursor_method   112.176\n",
       "9      1        100000     csv_method   63.0635"
      ]
     },
     "execution_count": 13,
     "metadata": {},
     "output_type": "execute_result"
    }
   ],
   "source": [
    "method_performances.tail()"
   ]
  },
  {
   "cell_type": "markdown",
   "metadata": {},
   "source": [
    "<h4 style='color:Blue'>Plotting the results of the various methods</h4>"
   ]
  },
  {
   "cell_type": "code",
   "execution_count": 14,
   "metadata": {},
   "outputs": [
    {
     "data": {
      "image/png": "[encoded data removed]",
      "text/plain": [
       "<Figure size 1080x720 with 1 Axes>"
      ]
     },
     "metadata": {
      "needs_background": "light"
     },
     "output_type": "display_data"
    }
   ],
   "source": [
    "fig, ax = plt.subplots(figsize=(15,10))\n",
    "for method in method_performances['Method_Name'].unique():\n",
    "    subset = method_performances[method_performances['Method_Name'] == method]    \n",
    "    ax.plot(subset['Total_Records'], subset['Time'], '--.', label=method, linewidth=2, markersize=10)\n",
    "\n",
    "plt.xticks([1000,5000,10000,50000,100000])\n",
    "plt.xlabel('Number of records in dataframe',fontsize=12)\n",
    "plt.ylabel('Execution Time in second',fontsize=12)\n",
    "plt.title(\"CSV reader method vs Cursor method\", fontsize=15)\n",
    "plt.legend()\n",
    "plt.show()"
   ]
  },
  {
   "cell_type": "markdown",
   "metadata": {},
   "source": [
    "<h3 style='color:Green' align='center'>According to the graph above, the csv file approach appears to be more effective because it took less time in comparison.</h3>"
   ]
  },
  {
   "cell_type": "markdown",
   "metadata": {},
   "source": [
    "<h4 style='color:Blue'>Prior to using this method, duplicate values must be updated. In the below, I have updated the duplicates and then loaded the data</h4> "
   ]
  },
  {
   "cell_type": "markdown",
   "metadata": {},
   "source": [
    "<h4 style='color:Red'>!!! Please update your file name here as well</h4> "
   ]
  },
  {
   "cell_type": "code",
   "execution_count": 29,
   "metadata": {},
   "outputs": [
    {
     "data": {
      "text/html": [
       "<div>\n",
       "<style scoped>\n",
       "    .dataframe tbody tr th:only-of-type {\n",
       "        vertical-align: middle;\n",
       "    }\n",
       "\n",
       "    .dataframe tbody tr th {\n",
       "        vertical-align: top;\n",
       "    }\n",
       "\n",
       "    .dataframe thead th {\n",
       "        text-align: right;\n",
       "    }\n",
       "</style>\n",
       "<table border=\"1\" class=\"dataframe\">\n",
       "  <thead>\n",
       "    <tr style=\"text-align: right;\">\n",
       "      <th></th>\n",
       "      <th>name</th>\n",
       "      <th>sku</th>\n",
       "      <th>description</th>\n",
       "    </tr>\n",
       "  </thead>\n",
       "  <tbody>\n",
       "    <tr>\n",
       "      <th>0</th>\n",
       "      <td>Bryce Jones</td>\n",
       "      <td>lay-raise-best-end</td>\n",
       "      <td>Art community floor adult your single type. Pe...</td>\n",
       "    </tr>\n",
       "    <tr>\n",
       "      <th>1</th>\n",
       "      <td>John Robinson</td>\n",
       "      <td>cup-return-guess</td>\n",
       "      <td>Produce successful hot tree past action young ...</td>\n",
       "    </tr>\n",
       "    <tr>\n",
       "      <th>2</th>\n",
       "      <td>Theresa Taylor</td>\n",
       "      <td>step-onto</td>\n",
       "      <td>Choice should lead budget task. Author best me...</td>\n",
       "    </tr>\n",
       "    <tr>\n",
       "      <th>3</th>\n",
       "      <td>Roger Huerta</td>\n",
       "      <td>citizen-some-middle</td>\n",
       "      <td>Important fight wrong position fine. Friend so...</td>\n",
       "    </tr>\n",
       "    <tr>\n",
       "      <th>4</th>\n",
       "      <td>John Buckley</td>\n",
       "      <td>term-important</td>\n",
       "      <td>Alone maybe education risk despite way.\\nWant ...</td>\n",
       "    </tr>\n",
       "  </tbody>\n",
       "</table>\n",
       "</div>"
      ],
      "text/plain": [
       "             name                  sku  \\\n",
       "0     Bryce Jones   lay-raise-best-end   \n",
       "1   John Robinson     cup-return-guess   \n",
       "2  Theresa Taylor            step-onto   \n",
       "3    Roger Huerta  citizen-some-middle   \n",
       "4    John Buckley       term-important   \n",
       "\n",
       "                                         description  \n",
       "0  Art community floor adult your single type. Pe...  \n",
       "1  Produce successful hot tree past action young ...  \n",
       "2  Choice should lead budget task. Author best me...  \n",
       "3  Important fight wrong position fine. Friend so...  \n",
       "4  Alone maybe education risk despite way.\\nWant ...  "
      ]
     },
     "execution_count": 29,
     "metadata": {},
     "output_type": "execute_result"
    }
   ],
   "source": [
    "df_basic = pd.read_csv(\"products.csv\")\n",
    "df_basic.head()"
   ]
  },
  {
   "cell_type": "code",
   "execution_count": 30,
   "metadata": {},
   "outputs": [
    {
     "data": {
      "text/plain": [
       "(500000, 3)"
      ]
     },
     "execution_count": 30,
     "metadata": {},
     "output_type": "execute_result"
    }
   ],
   "source": [
    "df_basic.shape"
   ]
  },
  {
   "cell_type": "code",
   "execution_count": 31,
   "metadata": {},
   "outputs": [
    {
     "data": {
      "text/plain": [
       "False    466693\n",
       "True      33307\n",
       "Name: sku, dtype: int64"
      ]
     },
     "execution_count": 31,
     "metadata": {},
     "output_type": "execute_result"
    }
   ],
   "source": [
    "df_basic['sku'].duplicated().value_counts()"
   ]
  },
  {
   "cell_type": "markdown",
   "metadata": {},
   "source": [
    "<h4 style='color:Brown' align='center'>It is obvious that we have a large number of duplicate values in the dataset, which we cannot eliminate. So I'm moving the duplicate values into a new dataframe and updating the sku column by merging it with the customer's name.</h4> "
   ]
  },
  {
   "cell_type": "code",
   "execution_count": 32,
   "metadata": {},
   "outputs": [
    {
     "data": {
      "text/plain": [
       "(466693, 3)"
      ]
     },
     "execution_count": 32,
     "metadata": {},
     "output_type": "execute_result"
    }
   ],
   "source": [
    "df_without_duplicate = df_basic.drop_duplicates(subset='sku')\n",
    "df_without_duplicate.shape"
   ]
  },
  {
   "cell_type": "code",
   "execution_count": 33,
   "metadata": {},
   "outputs": [],
   "source": [
    "duplicate = df_basic.loc[df_basic['sku'].duplicated(), :]"
   ]
  },
  {
   "cell_type": "code",
   "execution_count": 34,
   "metadata": {},
   "outputs": [
    {
     "data": {
      "text/plain": [
       "(33307, 3)"
      ]
     },
     "execution_count": 34,
     "metadata": {},
     "output_type": "execute_result"
    }
   ],
   "source": [
    "duplicate.shape"
   ]
  },
  {
   "cell_type": "code",
   "execution_count": 35,
   "metadata": {},
   "outputs": [],
   "source": [
    "duplicate['sku'] = duplicate[['sku', 'name']].agg('-'.join, axis=1)"
   ]
  },
  {
   "cell_type": "code",
   "execution_count": 36,
   "metadata": {},
   "outputs": [
    {
     "data": {
      "text/plain": [
       "(33307, 3)"
      ]
     },
     "execution_count": 36,
     "metadata": {},
     "output_type": "execute_result"
    }
   ],
   "source": [
    "duplicate.shape"
   ]
  },
  {
   "cell_type": "code",
   "execution_count": 37,
   "metadata": {},
   "outputs": [
    {
     "data": {
      "text/html": [
       "<div>\n",
       "<style scoped>\n",
       "    .dataframe tbody tr th:only-of-type {\n",
       "        vertical-align: middle;\n",
       "    }\n",
       "\n",
       "    .dataframe tbody tr th {\n",
       "        vertical-align: top;\n",
       "    }\n",
       "\n",
       "    .dataframe thead th {\n",
       "        text-align: right;\n",
       "    }\n",
       "</style>\n",
       "<table border=\"1\" class=\"dataframe\">\n",
       "  <thead>\n",
       "    <tr style=\"text-align: right;\">\n",
       "      <th></th>\n",
       "      <th>name</th>\n",
       "      <th>sku</th>\n",
       "      <th>description</th>\n",
       "    </tr>\n",
       "  </thead>\n",
       "  <tbody>\n",
       "    <tr>\n",
       "      <th>967</th>\n",
       "      <td>Alexander Mendez</td>\n",
       "      <td>involve-available-Alexander Mendez</td>\n",
       "      <td>Mean old personal through. Authority how usual...</td>\n",
       "    </tr>\n",
       "    <tr>\n",
       "      <th>1636</th>\n",
       "      <td>Carrie Lamb</td>\n",
       "      <td>institution-Carrie Lamb</td>\n",
       "      <td>Major free main happy. Garden let medical citi...</td>\n",
       "    </tr>\n",
       "    <tr>\n",
       "      <th>2115</th>\n",
       "      <td>James Simpson</td>\n",
       "      <td>significant-James Simpson</td>\n",
       "      <td>By police way inside chance effect quality. Wi...</td>\n",
       "    </tr>\n",
       "    <tr>\n",
       "      <th>2493</th>\n",
       "      <td>Amanda Carter</td>\n",
       "      <td>administration-Amanda Carter</td>\n",
       "      <td>Pass sound memory good. Degree art compare can...</td>\n",
       "    </tr>\n",
       "    <tr>\n",
       "      <th>2764</th>\n",
       "      <td>Jeffrey Weeks</td>\n",
       "      <td>professional-Jeffrey Weeks</td>\n",
       "      <td>Wall toward compare serious. Foreign one diffi...</td>\n",
       "    </tr>\n",
       "  </tbody>\n",
       "</table>\n",
       "</div>"
      ],
      "text/plain": [
       "                  name                                 sku  \\\n",
       "967   Alexander Mendez  involve-available-Alexander Mendez   \n",
       "1636       Carrie Lamb             institution-Carrie Lamb   \n",
       "2115     James Simpson           significant-James Simpson   \n",
       "2493     Amanda Carter        administration-Amanda Carter   \n",
       "2764     Jeffrey Weeks          professional-Jeffrey Weeks   \n",
       "\n",
       "                                            description  \n",
       "967   Mean old personal through. Authority how usual...  \n",
       "1636  Major free main happy. Garden let medical citi...  \n",
       "2115  By police way inside chance effect quality. Wi...  \n",
       "2493  Pass sound memory good. Degree art compare can...  \n",
       "2764  Wall toward compare serious. Foreign one diffi...  "
      ]
     },
     "execution_count": 37,
     "metadata": {},
     "output_type": "execute_result"
    }
   ],
   "source": [
    "duplicate.head()"
   ]
  },
  {
   "cell_type": "markdown",
   "metadata": {},
   "source": [
    "<h4 style='color:Blue'>After dealing with the duplicate values, we are now constructing the final dataframe to be processed.</h4> "
   ]
  },
  {
   "cell_type": "code",
   "execution_count": 38,
   "metadata": {},
   "outputs": [],
   "source": [
    "df_op = pd.concat([df_without_duplicate,duplicate])"
   ]
  },
  {
   "cell_type": "code",
   "execution_count": 39,
   "metadata": {},
   "outputs": [
    {
     "data": {
      "text/plain": [
       "(500000, 3)"
      ]
     },
     "execution_count": 39,
     "metadata": {},
     "output_type": "execute_result"
    }
   ],
   "source": [
    "df_op.shape"
   ]
  },
  {
   "cell_type": "code",
   "execution_count": 40,
   "metadata": {},
   "outputs": [
    {
     "data": {
      "text/plain": [
       "False    499996\n",
       "True          4\n",
       "Name: sku, dtype: int64"
      ]
     },
     "execution_count": 40,
     "metadata": {},
     "output_type": "execute_result"
    }
   ],
   "source": [
    "df_op['sku'].duplicated().value_counts()"
   ]
  },
  {
   "cell_type": "code",
   "execution_count": 41,
   "metadata": {},
   "outputs": [],
   "source": [
    "def csv_method(engine, df, table):\n",
    "    try:\n",
    "        df.to_csv('products.csv', index=False)\n",
    "        cols = ','.join(list(df.columns))\n",
    "        sql = \"INSERT IGNORE INTO %s(%s) VALUES(%%s,%%s,%%s)\" % (table, cols)\n",
    "        sql = sql.format(table)\n",
    "        with open('products.csv') as file:\n",
    "            reader = csv.reader(file)\n",
    "            next(reader)\n",
    "            data = list(reader)\n",
    "        engine.execute(sql, data)\n",
    "        print(\"Data insertion is successful with the csv reader.\")\n",
    "    except Error as err:\n",
    "        print(\"Error while inserting to MySQL\", e)"
   ]
  },
  {
   "cell_type": "code",
   "execution_count": 42,
   "metadata": {},
   "outputs": [
    {
     "name": "stdout",
     "output_type": "stream",
     "text": [
      "Data insertion is successful with the csv reader.\n"
     ]
    }
   ],
   "source": [
    "csv_method(engine, df_op, \"PRODUCT_DATA\")"
   ]
  },
  {
   "cell_type": "markdown",
   "metadata": {},
   "source": [
    "<h4 style='color:Blue'>The data had been successfully stored in the database.</h4> "
   ]
  },
  {
   "cell_type": "markdown",
   "metadata": {},
   "source": [
    "<h3 style='color:Maroon' align='center'>Data aggregation</h3> "
   ]
  },
  {
   "cell_type": "markdown",
   "metadata": {},
   "source": [
    "#### Creating a table to aggregate the above rows with `name` and `no. of products` "
   ]
  },
  {
   "cell_type": "code",
   "execution_count": 44,
   "metadata": {},
   "outputs": [
    {
     "data": {
      "text/plain": [
       "<sqlalchemy.engine.result.ResultProxy at 0x1637e1eff08>"
      ]
     },
     "execution_count": 44,
     "metadata": {},
     "output_type": "execute_result"
    }
   ],
   "source": [
    "engine.execute(\"CREATE TABLE Product_count SELECT name, COUNT(sku) as 'no. of products' FROM PRODUCT_DATA GROUP BY name;\")"
   ]
  },
  {
   "cell_type": "code",
   "execution_count": 50,
   "metadata": {},
   "outputs": [],
   "source": [
    "df_product_count_table = pd.read_sql_query(\"SELECT * FROM Product_count\",conn)"
   ]
  },
  {
   "cell_type": "code",
   "execution_count": 51,
   "metadata": {},
   "outputs": [
    {
     "data": {
      "text/html": [
       "<div>\n",
       "<style scoped>\n",
       "    .dataframe tbody tr th:only-of-type {\n",
       "        vertical-align: middle;\n",
       "    }\n",
       "\n",
       "    .dataframe tbody tr th {\n",
       "        vertical-align: top;\n",
       "    }\n",
       "\n",
       "    .dataframe thead th {\n",
       "        text-align: right;\n",
       "    }\n",
       "</style>\n",
       "<table border=\"1\" class=\"dataframe\">\n",
       "  <thead>\n",
       "    <tr style=\"text-align: right;\">\n",
       "      <th></th>\n",
       "      <th>name</th>\n",
       "      <th>no. of products</th>\n",
       "    </tr>\n",
       "  </thead>\n",
       "  <tbody>\n",
       "    <tr>\n",
       "      <th>219603</th>\n",
       "      <td>Mr. Clinton Johnson</td>\n",
       "      <td>1</td>\n",
       "    </tr>\n",
       "    <tr>\n",
       "      <th>123097</th>\n",
       "      <td>Tyler Ayala</td>\n",
       "      <td>1</td>\n",
       "    </tr>\n",
       "    <tr>\n",
       "      <th>161361</th>\n",
       "      <td>Laura Bryant</td>\n",
       "      <td>2</td>\n",
       "    </tr>\n",
       "    <tr>\n",
       "      <th>29649</th>\n",
       "      <td>Kristy Martinez</td>\n",
       "      <td>6</td>\n",
       "    </tr>\n",
       "    <tr>\n",
       "      <th>80960</th>\n",
       "      <td>Patrick Maddox</td>\n",
       "      <td>1</td>\n",
       "    </tr>\n",
       "  </tbody>\n",
       "</table>\n",
       "</div>"
      ],
      "text/plain": [
       "                       name  no. of products\n",
       "219603  Mr. Clinton Johnson                1\n",
       "123097          Tyler Ayala                1\n",
       "161361         Laura Bryant                2\n",
       "29649       Kristy Martinez                6\n",
       "80960        Patrick Maddox                1"
      ]
     },
     "execution_count": 51,
     "metadata": {},
     "output_type": "execute_result"
    }
   ],
   "source": [
    "df_product_count_table.sample(5)"
   ]
  },
  {
   "cell_type": "markdown",
   "metadata": {},
   "source": [
    "#### Downloading the Product count table and also I uploaded in the github"
   ]
  },
  {
   "cell_type": "code",
   "execution_count": 52,
   "metadata": {},
   "outputs": [],
   "source": [
    "df_product_count_table.to_csv(\"Product_count_table.csv\",index=False)"
   ]
  },
  {
   "cell_type": "code",
   "execution_count": 55,
   "metadata": {},
   "outputs": [],
   "source": [
    "# The Recruiter,\n",
    "\n",
    "# Please let me know, If something else is needed from my end.\n",
    "\n",
    "# Have a good day.\n",
    "# ---------------------\n",
    "# Parthiban Jayachandran\n",
    "# +91 9500255911\n",
    "# jparthibanbe@gmail.com\n",
    "# github.com/parthiban-jayachandran"
   ]
  },
  {
   "cell_type": "markdown",
   "metadata": {},
   "source": [
    "##### ***End of the file"
   ]
  }
 ],
 "metadata": {
  "kernelspec": {
   "display_name": "Python 3",
   "language": "python",
   "name": "python3"
  },
  "language_info": {
   "codemirror_mode": {
    "name": "ipython",
    "version": 3
   },
   "file_extension": ".py",
   "mimetype": "text/x-python",
   "name": "python",
   "nbconvert_exporter": "python",
   "pygments_lexer": "ipython3",
   "version": "3.7.6"
  }
 },
 "nbformat": 4,
 "nbformat_minor": 4
}
